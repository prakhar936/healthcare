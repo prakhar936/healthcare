{
 "cells": [
  {
   "cell_type": "code",
   "execution_count": 209,
   "id": "cc3b141b",
   "metadata": {},
   "outputs": [],
   "source": [
    "import numpy as np\n",
    "import pandas as pd\n",
    "import matplotlib.pyplot as plt\n",
    "import seaborn as sns\n",
    "from sklearn.preprocessing import LabelEncoder\n",
    "from sklearn.model_selection import train_test_split as tt\n",
    "from sklearn.linear_model import LogisticRegression as lr\n",
    "from sklearn.neighbors import KNeighborsClassifier as knn\n",
    "from sklearn.tree import DecisionTreeClassifier as dt\n",
    "from sklearn.ensemble import RandomForestClassifier as rf\n",
    "from sklearn.svm import SVC\n",
    "from sklearn.naive_bayes import GaussianNB\n",
    "from sklearn.model_selection import cross_val_scorez"
   ]
  },
  {
   "cell_type": "code",
   "execution_count": 210,
   "id": "67457f0e",
   "metadata": {},
   "outputs": [
    {
     "name": "stdout",
     "output_type": "stream",
     "text": [
      "(10000, 15)\n",
      "(10000, 15)\n"
     ]
    }
   ],
   "source": [
    "df = pd.read_csv(r\"C:\\Users\\91936\\Desktop\\wine and healthcare\\healthcare\\healthcare_dataset.csv\")\n",
    "print(df.shape)\n",
    "df.drop_duplicates(inplace = True)\n",
    "print(df.shape)"
   ]
  },
  {
   "cell_type": "code",
   "execution_count": 211,
   "id": "b9256393",
   "metadata": {},
   "outputs": [
    {
     "data": {
      "text/html": [
       "<div>\n",
       "<style scoped>\n",
       "    .dataframe tbody tr th:only-of-type {\n",
       "        vertical-align: middle;\n",
       "    }\n",
       "\n",
       "    .dataframe tbody tr th {\n",
       "        vertical-align: top;\n",
       "    }\n",
       "\n",
       "    .dataframe thead th {\n",
       "        text-align: right;\n",
       "    }\n",
       "</style>\n",
       "<table border=\"1\" class=\"dataframe\">\n",
       "  <thead>\n",
       "    <tr style=\"text-align: right;\">\n",
       "      <th></th>\n",
       "      <th>Name</th>\n",
       "      <th>Age</th>\n",
       "      <th>Gender</th>\n",
       "      <th>Blood Type</th>\n",
       "      <th>Medical Condition</th>\n",
       "      <th>Date of Admission</th>\n",
       "      <th>Doctor</th>\n",
       "      <th>Hospital</th>\n",
       "      <th>Insurance Provider</th>\n",
       "      <th>Billing Amount</th>\n",
       "      <th>Room Number</th>\n",
       "      <th>Admission Type</th>\n",
       "      <th>Discharge Date</th>\n",
       "      <th>Medication</th>\n",
       "      <th>Test Results</th>\n",
       "    </tr>\n",
       "  </thead>\n",
       "  <tbody>\n",
       "    <tr>\n",
       "      <th>0</th>\n",
       "      <td>Tiffany Ramirez</td>\n",
       "      <td>81</td>\n",
       "      <td>Female</td>\n",
       "      <td>O-</td>\n",
       "      <td>Diabetes</td>\n",
       "      <td>2022-11-17</td>\n",
       "      <td>Patrick Parker</td>\n",
       "      <td>Wallace-Hamilton</td>\n",
       "      <td>Medicare</td>\n",
       "      <td>37490.983364</td>\n",
       "      <td>146</td>\n",
       "      <td>Elective</td>\n",
       "      <td>2022-12-01</td>\n",
       "      <td>Aspirin</td>\n",
       "      <td>Inconclusive</td>\n",
       "    </tr>\n",
       "    <tr>\n",
       "      <th>1</th>\n",
       "      <td>Ruben Burns</td>\n",
       "      <td>35</td>\n",
       "      <td>Male</td>\n",
       "      <td>O+</td>\n",
       "      <td>Asthma</td>\n",
       "      <td>2023-06-01</td>\n",
       "      <td>Diane Jackson</td>\n",
       "      <td>Burke, Griffin and Cooper</td>\n",
       "      <td>UnitedHealthcare</td>\n",
       "      <td>47304.064845</td>\n",
       "      <td>404</td>\n",
       "      <td>Emergency</td>\n",
       "      <td>2023-06-15</td>\n",
       "      <td>Lipitor</td>\n",
       "      <td>Normal</td>\n",
       "    </tr>\n",
       "    <tr>\n",
       "      <th>2</th>\n",
       "      <td>Chad Byrd</td>\n",
       "      <td>61</td>\n",
       "      <td>Male</td>\n",
       "      <td>B-</td>\n",
       "      <td>Obesity</td>\n",
       "      <td>2019-01-09</td>\n",
       "      <td>Paul Baker</td>\n",
       "      <td>Walton LLC</td>\n",
       "      <td>Medicare</td>\n",
       "      <td>36874.896997</td>\n",
       "      <td>292</td>\n",
       "      <td>Emergency</td>\n",
       "      <td>2019-02-08</td>\n",
       "      <td>Lipitor</td>\n",
       "      <td>Normal</td>\n",
       "    </tr>\n",
       "    <tr>\n",
       "      <th>3</th>\n",
       "      <td>Antonio Frederick</td>\n",
       "      <td>49</td>\n",
       "      <td>Male</td>\n",
       "      <td>B-</td>\n",
       "      <td>Asthma</td>\n",
       "      <td>2020-05-02</td>\n",
       "      <td>Brian Chandler</td>\n",
       "      <td>Garcia Ltd</td>\n",
       "      <td>Medicare</td>\n",
       "      <td>23303.322092</td>\n",
       "      <td>480</td>\n",
       "      <td>Urgent</td>\n",
       "      <td>2020-05-03</td>\n",
       "      <td>Penicillin</td>\n",
       "      <td>Abnormal</td>\n",
       "    </tr>\n",
       "    <tr>\n",
       "      <th>4</th>\n",
       "      <td>Mrs. Brandy Flowers</td>\n",
       "      <td>51</td>\n",
       "      <td>Male</td>\n",
       "      <td>O-</td>\n",
       "      <td>Arthritis</td>\n",
       "      <td>2021-07-09</td>\n",
       "      <td>Dustin Griffin</td>\n",
       "      <td>Jones, Brown and Murray</td>\n",
       "      <td>UnitedHealthcare</td>\n",
       "      <td>18086.344184</td>\n",
       "      <td>477</td>\n",
       "      <td>Urgent</td>\n",
       "      <td>2021-08-02</td>\n",
       "      <td>Paracetamol</td>\n",
       "      <td>Normal</td>\n",
       "    </tr>\n",
       "  </tbody>\n",
       "</table>\n",
       "</div>"
      ],
      "text/plain": [
       "                  Name  Age  Gender Blood Type Medical Condition  \\\n",
       "0      Tiffany Ramirez   81  Female         O-          Diabetes   \n",
       "1          Ruben Burns   35    Male         O+            Asthma   \n",
       "2            Chad Byrd   61    Male         B-           Obesity   \n",
       "3    Antonio Frederick   49    Male         B-            Asthma   \n",
       "4  Mrs. Brandy Flowers   51    Male         O-         Arthritis   \n",
       "\n",
       "  Date of Admission          Doctor                   Hospital  \\\n",
       "0        2022-11-17  Patrick Parker           Wallace-Hamilton   \n",
       "1        2023-06-01   Diane Jackson  Burke, Griffin and Cooper   \n",
       "2        2019-01-09      Paul Baker                 Walton LLC   \n",
       "3        2020-05-02  Brian Chandler                 Garcia Ltd   \n",
       "4        2021-07-09  Dustin Griffin    Jones, Brown and Murray   \n",
       "\n",
       "  Insurance Provider  Billing Amount  Room Number Admission Type  \\\n",
       "0           Medicare    37490.983364          146       Elective   \n",
       "1   UnitedHealthcare    47304.064845          404      Emergency   \n",
       "2           Medicare    36874.896997          292      Emergency   \n",
       "3           Medicare    23303.322092          480         Urgent   \n",
       "4   UnitedHealthcare    18086.344184          477         Urgent   \n",
       "\n",
       "  Discharge Date   Medication  Test Results  \n",
       "0     2022-12-01      Aspirin  Inconclusive  \n",
       "1     2023-06-15      Lipitor        Normal  \n",
       "2     2019-02-08      Lipitor        Normal  \n",
       "3     2020-05-03   Penicillin      Abnormal  \n",
       "4     2021-08-02  Paracetamol        Normal  "
      ]
     },
     "execution_count": 211,
     "metadata": {},
     "output_type": "execute_result"
    }
   ],
   "source": [
    "df.head()"
   ]
  },
  {
   "cell_type": "code",
   "execution_count": 212,
   "id": "86e305eb",
   "metadata": {},
   "outputs": [],
   "source": [
    "df.drop(['Name','Date of Admission','Room Number','Discharge Date','Insurance Provider'],axis = 1,inplace = True)"
   ]
  },
  {
   "cell_type": "code",
   "execution_count": 213,
   "id": "5cc871ed",
   "metadata": {},
   "outputs": [
    {
     "name": "stdout",
     "output_type": "stream",
     "text": [
      "Age\n",
      "68\n",
      "[81 35 61 49 51 41 82 55 33 39 45 23 85 72 65 32 64 66 80 79 54 26 70 74\n",
      " 56 37 78 83 30 19 46 48 34 84 47 60 57 21 27 68 31 42 71 38 28 43 69 73\n",
      " 67 44 20 59 76 40 36 29 53 77 24 75 25 62 52 50 22 63 58 18]\n",
      "\n",
      "Gender\n",
      "2\n",
      "['Female' 'Male']\n",
      "\n",
      "Blood Type\n",
      "8\n",
      "['O-' 'O+' 'B-' 'AB+' 'A+' 'AB-' 'A-' 'B+']\n",
      "\n",
      "Medical Condition\n",
      "6\n",
      "['Diabetes' 'Asthma' 'Obesity' 'Arthritis' 'Hypertension' 'Cancer']\n",
      "\n",
      "Doctor\n",
      "9416\n",
      "['Patrick Parker' 'Diane Jackson' 'Paul Baker' ... 'Robert Nicholson'\n",
      " 'Jamie Lewis' 'Tasha Avila']\n",
      "\n",
      "Hospital\n",
      "8639\n",
      "['Wallace-Hamilton' 'Burke, Griffin and Cooper' 'Walton LLC' ...\n",
      " 'Nash-Krueger' 'Wilson-Lyons' 'Torres, Young and Stewart']\n",
      "\n",
      "Billing Amount\n",
      "10000\n",
      "[37490.98336353 47304.06484548 36874.89699661 ... 49559.20290467\n",
      " 25236.34476098 37223.96586473]\n",
      "\n",
      "Admission Type\n",
      "3\n",
      "['Elective' 'Emergency' 'Urgent']\n",
      "\n",
      "Medication\n",
      "5\n",
      "['Aspirin' 'Lipitor' 'Penicillin' 'Paracetamol' 'Ibuprofen']\n",
      "\n",
      "Test Results\n",
      "3\n",
      "['Inconclusive' 'Normal' 'Abnormal']\n",
      "\n"
     ]
    }
   ],
   "source": [
    "for j in df.columns:\n",
    "    print(j)\n",
    "    print(df[j].nunique())\n",
    "    print(df[j].unique())\n",
    "    print()"
   ]
  },
  {
   "cell_type": "markdown",
   "id": "8bfe205a",
   "metadata": {},
   "source": [
    "As there are too many Hospitals and Doctors there can't be any pattern with them "
   ]
  },
  {
   "cell_type": "code",
   "execution_count": 214,
   "id": "988568eb",
   "metadata": {},
   "outputs": [],
   "source": [
    "df.drop(['Doctor','Hospital'],axis =1,inplace = True)"
   ]
  },
  {
   "cell_type": "code",
   "execution_count": 215,
   "metadata": {},
   "outputs": [
    {
     "data": {
      "text/html": [
       "<div>\n",
       "<style scoped>\n",
       "    .dataframe tbody tr th:only-of-type {\n",
       "        vertical-align: middle;\n",
       "    }\n",
       "\n",
       "    .dataframe tbody tr th {\n",
       "        vertical-align: top;\n",
       "    }\n",
       "\n",
       "    .dataframe thead th {\n",
       "        text-align: right;\n",
       "    }\n",
       "</style>\n",
       "<table border=\"1\" class=\"dataframe\">\n",
       "  <thead>\n",
       "    <tr style=\"text-align: right;\">\n",
       "      <th></th>\n",
       "      <th>Age</th>\n",
       "      <th>Gender</th>\n",
       "      <th>Blood Type</th>\n",
       "      <th>Medical Condition</th>\n",
       "      <th>Billing Amount</th>\n",
       "      <th>Admission Type</th>\n",
       "      <th>Medication</th>\n",
       "      <th>Test Results</th>\n",
       "    </tr>\n",
       "  </thead>\n",
       "  <tbody>\n",
       "    <tr>\n",
       "      <th>0</th>\n",
       "      <td>81</td>\n",
       "      <td>Female</td>\n",
       "      <td>O-</td>\n",
       "      <td>Diabetes</td>\n",
       "      <td>37490.983364</td>\n",
       "      <td>Elective</td>\n",
       "      <td>Aspirin</td>\n",
       "      <td>Inconclusive</td>\n",
       "    </tr>\n",
       "    <tr>\n",
       "      <th>1</th>\n",
       "      <td>35</td>\n",
       "      <td>Male</td>\n",
       "      <td>O+</td>\n",
       "      <td>Asthma</td>\n",
       "      <td>47304.064845</td>\n",
       "      <td>Emergency</td>\n",
       "      <td>Lipitor</td>\n",
       "      <td>Normal</td>\n",
       "    </tr>\n",
       "    <tr>\n",
       "      <th>2</th>\n",
       "      <td>61</td>\n",
       "      <td>Male</td>\n",
       "      <td>B-</td>\n",
       "      <td>Obesity</td>\n",
       "      <td>36874.896997</td>\n",
       "      <td>Emergency</td>\n",
       "      <td>Lipitor</td>\n",
       "      <td>Normal</td>\n",
       "    </tr>\n",
       "    <tr>\n",
       "      <th>3</th>\n",
       "      <td>49</td>\n",
       "      <td>Male</td>\n",
       "      <td>B-</td>\n",
       "      <td>Asthma</td>\n",
       "      <td>23303.322092</td>\n",
       "      <td>Urgent</td>\n",
       "      <td>Penicillin</td>\n",
       "      <td>Abnormal</td>\n",
       "    </tr>\n",
       "    <tr>\n",
       "      <th>4</th>\n",
       "      <td>51</td>\n",
       "      <td>Male</td>\n",
       "      <td>O-</td>\n",
       "      <td>Arthritis</td>\n",
       "      <td>18086.344184</td>\n",
       "      <td>Urgent</td>\n",
       "      <td>Paracetamol</td>\n",
       "      <td>Normal</td>\n",
       "    </tr>\n",
       "  </tbody>\n",
       "</table>\n",
       "</div>"
      ],
      "text/plain": [
       "   Age  Gender Blood Type Medical Condition  Billing Amount Admission Type  \\\n",
       "0   81  Female         O-          Diabetes    37490.983364       Elective   \n",
       "1   35    Male         O+            Asthma    47304.064845      Emergency   \n",
       "2   61    Male         B-           Obesity    36874.896997      Emergency   \n",
       "3   49    Male         B-            Asthma    23303.322092         Urgent   \n",
       "4   51    Male         O-         Arthritis    18086.344184         Urgent   \n",
       "\n",
       "    Medication  Test Results  \n",
       "0      Aspirin  Inconclusive  \n",
       "1      Lipitor        Normal  \n",
       "2      Lipitor        Normal  \n",
       "3   Penicillin      Abnormal  \n",
       "4  Paracetamol        Normal  "
      ]
     },
     "execution_count": 215,
     "metadata": {},
     "output_type": "execute_result"
    }
   ],
   "source": [
    "df.head()"
   ]
  },
  {
   "cell_type": "code",
   "execution_count": 216,
   "metadata": {},
   "outputs": [
    {
     "data": {
      "text/plain": [
       "array(['FemaleO-', 'MaleO+', 'MaleB-', 'MaleO-', 'MaleAB+', 'MaleA+',\n",
       "       'FemaleA+', 'FemaleAB+', 'FemaleO+', 'MaleAB-', 'FemaleB-',\n",
       "       'MaleA-', 'FemaleA-', 'FemaleAB-', 'FemaleB+', 'MaleB+'],\n",
       "      dtype=object)"
      ]
     },
     "execution_count": 216,
     "metadata": {},
     "output_type": "execute_result"
    }
   ],
   "source": [
    "df['GB'] = df['Gender'].astype(str) + df['Blood Type'].astype(str) \n",
    "df['GB'].unique()"
   ]
  },
  {
   "cell_type": "code",
   "execution_count": 217,
   "metadata": {},
   "outputs": [],
   "source": [
    "map_g = {'Female':0,'Male':1}\n",
    "map_b = {'O-':0, 'O+':1, 'B-':2, 'AB+':3, 'A+':4, 'AB-':5, 'A-':6, 'B+':7}\n",
    "map_mc = {'Diabetes':0, 'Asthma':1, 'Obesity':2, 'Arthritis':3, 'Hypertension':4, 'Cancer':5}\n",
    "map_at = {'Elective':0,'Emergency':1, 'Urgent':2}\n",
    "map_med = {'Aspirin':0, 'Lipitor':1, 'Penicillin':2, 'Paracetamol':3, 'Ibuprofen':4}\n",
    "map_tr = {'Inconclusive':0,'Normal':1,'Abnormal':2}\n",
    "map_gb = {'FemaleO-':0, 'MaleO+':1, 'MaleB-':2, 'MaleO-':3, 'MaleAB+':4, 'MaleA+':5,\n",
    "       'FemaleA+':6, 'FemaleAB+':7, 'FemaleO+':8, 'MaleAB-':9, 'FemaleB-':10,\n",
    "       'MaleA-':11, 'FemaleA-':12, 'FemaleAB-':13, 'FemaleB+':14, 'MaleB+':15}\n",
    "\n",
    "df['Gender'] = df['Gender'].map(map_g)\n",
    "df['Blood Type'] = df['Blood Type'].map(map_b)\n",
    "df['Medical Condition'] = df['Medical Condition'].map(map_mc)\n",
    "df['Admission Type'] = df['Admission Type'].map(map_at)\n",
    "df['Medication'] = df['Medication'].map(map_med)\n",
    "df['Test Results'] = df['Test Results'].map(map_tr)\n",
    "df['GB'] = df['GB'].map(map_gb)"
   ]
  },
  {
   "cell_type": "code",
   "execution_count": 218,
   "id": "621bbd71",
   "metadata": {},
   "outputs": [
    {
     "data": {
      "text/html": [
       "<div>\n",
       "<style scoped>\n",
       "    .dataframe tbody tr th:only-of-type {\n",
       "        vertical-align: middle;\n",
       "    }\n",
       "\n",
       "    .dataframe tbody tr th {\n",
       "        vertical-align: top;\n",
       "    }\n",
       "\n",
       "    .dataframe thead th {\n",
       "        text-align: right;\n",
       "    }\n",
       "</style>\n",
       "<table border=\"1\" class=\"dataframe\">\n",
       "  <thead>\n",
       "    <tr style=\"text-align: right;\">\n",
       "      <th></th>\n",
       "      <th>Age</th>\n",
       "      <th>Gender</th>\n",
       "      <th>Blood Type</th>\n",
       "      <th>Medical Condition</th>\n",
       "      <th>Billing Amount</th>\n",
       "      <th>Admission Type</th>\n",
       "      <th>Medication</th>\n",
       "      <th>Test Results</th>\n",
       "      <th>GB</th>\n",
       "    </tr>\n",
       "  </thead>\n",
       "  <tbody>\n",
       "    <tr>\n",
       "      <th>0</th>\n",
       "      <td>81</td>\n",
       "      <td>0</td>\n",
       "      <td>0</td>\n",
       "      <td>0</td>\n",
       "      <td>37490.983364</td>\n",
       "      <td>0</td>\n",
       "      <td>0</td>\n",
       "      <td>0</td>\n",
       "      <td>0</td>\n",
       "    </tr>\n",
       "    <tr>\n",
       "      <th>1</th>\n",
       "      <td>35</td>\n",
       "      <td>1</td>\n",
       "      <td>1</td>\n",
       "      <td>1</td>\n",
       "      <td>47304.064845</td>\n",
       "      <td>1</td>\n",
       "      <td>1</td>\n",
       "      <td>1</td>\n",
       "      <td>1</td>\n",
       "    </tr>\n",
       "    <tr>\n",
       "      <th>2</th>\n",
       "      <td>61</td>\n",
       "      <td>1</td>\n",
       "      <td>2</td>\n",
       "      <td>2</td>\n",
       "      <td>36874.896997</td>\n",
       "      <td>1</td>\n",
       "      <td>1</td>\n",
       "      <td>1</td>\n",
       "      <td>2</td>\n",
       "    </tr>\n",
       "    <tr>\n",
       "      <th>3</th>\n",
       "      <td>49</td>\n",
       "      <td>1</td>\n",
       "      <td>2</td>\n",
       "      <td>1</td>\n",
       "      <td>23303.322092</td>\n",
       "      <td>2</td>\n",
       "      <td>2</td>\n",
       "      <td>2</td>\n",
       "      <td>2</td>\n",
       "    </tr>\n",
       "    <tr>\n",
       "      <th>4</th>\n",
       "      <td>51</td>\n",
       "      <td>1</td>\n",
       "      <td>0</td>\n",
       "      <td>3</td>\n",
       "      <td>18086.344184</td>\n",
       "      <td>2</td>\n",
       "      <td>3</td>\n",
       "      <td>1</td>\n",
       "      <td>3</td>\n",
       "    </tr>\n",
       "    <tr>\n",
       "      <th>...</th>\n",
       "      <td>...</td>\n",
       "      <td>...</td>\n",
       "      <td>...</td>\n",
       "      <td>...</td>\n",
       "      <td>...</td>\n",
       "      <td>...</td>\n",
       "      <td>...</td>\n",
       "      <td>...</td>\n",
       "      <td>...</td>\n",
       "    </tr>\n",
       "    <tr>\n",
       "      <th>9995</th>\n",
       "      <td>83</td>\n",
       "      <td>1</td>\n",
       "      <td>4</td>\n",
       "      <td>2</td>\n",
       "      <td>39606.840083</td>\n",
       "      <td>0</td>\n",
       "      <td>4</td>\n",
       "      <td>2</td>\n",
       "      <td>5</td>\n",
       "    </tr>\n",
       "    <tr>\n",
       "      <th>9996</th>\n",
       "      <td>47</td>\n",
       "      <td>0</td>\n",
       "      <td>3</td>\n",
       "      <td>3</td>\n",
       "      <td>5995.717488</td>\n",
       "      <td>1</td>\n",
       "      <td>4</td>\n",
       "      <td>1</td>\n",
       "      <td>7</td>\n",
       "    </tr>\n",
       "    <tr>\n",
       "      <th>9997</th>\n",
       "      <td>54</td>\n",
       "      <td>1</td>\n",
       "      <td>2</td>\n",
       "      <td>3</td>\n",
       "      <td>49559.202905</td>\n",
       "      <td>0</td>\n",
       "      <td>4</td>\n",
       "      <td>1</td>\n",
       "      <td>2</td>\n",
       "    </tr>\n",
       "    <tr>\n",
       "      <th>9998</th>\n",
       "      <td>84</td>\n",
       "      <td>1</td>\n",
       "      <td>4</td>\n",
       "      <td>3</td>\n",
       "      <td>25236.344761</td>\n",
       "      <td>2</td>\n",
       "      <td>2</td>\n",
       "      <td>1</td>\n",
       "      <td>5</td>\n",
       "    </tr>\n",
       "    <tr>\n",
       "      <th>9999</th>\n",
       "      <td>20</td>\n",
       "      <td>1</td>\n",
       "      <td>2</td>\n",
       "      <td>3</td>\n",
       "      <td>37223.965865</td>\n",
       "      <td>1</td>\n",
       "      <td>2</td>\n",
       "      <td>2</td>\n",
       "      <td>2</td>\n",
       "    </tr>\n",
       "  </tbody>\n",
       "</table>\n",
       "<p>10000 rows × 9 columns</p>\n",
       "</div>"
      ],
      "text/plain": [
       "      Age  Gender  Blood Type  Medical Condition  Billing Amount  \\\n",
       "0      81       0           0                  0    37490.983364   \n",
       "1      35       1           1                  1    47304.064845   \n",
       "2      61       1           2                  2    36874.896997   \n",
       "3      49       1           2                  1    23303.322092   \n",
       "4      51       1           0                  3    18086.344184   \n",
       "...   ...     ...         ...                ...             ...   \n",
       "9995   83       1           4                  2    39606.840083   \n",
       "9996   47       0           3                  3     5995.717488   \n",
       "9997   54       1           2                  3    49559.202905   \n",
       "9998   84       1           4                  3    25236.344761   \n",
       "9999   20       1           2                  3    37223.965865   \n",
       "\n",
       "      Admission Type  Medication  Test Results  GB  \n",
       "0                  0           0             0   0  \n",
       "1                  1           1             1   1  \n",
       "2                  1           1             1   2  \n",
       "3                  2           2             2   2  \n",
       "4                  2           3             1   3  \n",
       "...              ...         ...           ...  ..  \n",
       "9995               0           4             2   5  \n",
       "9996               1           4             1   7  \n",
       "9997               0           4             1   2  \n",
       "9998               2           2             1   5  \n",
       "9999               1           2             2   2  \n",
       "\n",
       "[10000 rows x 9 columns]"
      ]
     },
     "execution_count": 218,
     "metadata": {},
     "output_type": "execute_result"
    }
   ],
   "source": [
    "df"
   ]
  },
  {
   "cell_type": "code",
   "execution_count": 219,
   "metadata": {},
   "outputs": [
    {
     "data": {
      "image/png": "[encoded data removed]",
      "text/plain": [
       "<Figure size 800x800 with 2 Axes>"
      ]
     },
     "metadata": {},
     "output_type": "display_data"
    }
   ],
   "source": [
    "plt.figure(figsize=(8,8))\n",
    "sns.heatmap(df.corr(),annot = True)\n",
    "plt.show()"
   ]
  },
  {
   "cell_type": "code",
   "execution_count": 220,
   "id": "dcff39ba",
   "metadata": {},
   "outputs": [],
   "source": [
    "x = df.drop('Test Results',axis = 1)\n",
    "y = df['Test Results']"
   ]
  },
  {
   "cell_type": "code",
   "execution_count": 221,
   "id": "b5c5562b",
   "metadata": {},
   "outputs": [],
   "source": [
    "x_train,x_test,y_train,y_test = tt(x,y,random_state = 42)"
   ]
  },
  {
   "cell_type": "code",
   "execution_count": 222,
   "id": "55db04ab",
   "metadata": {},
   "outputs": [
    {
     "data": {
      "text/plain": [
       "0.3532"
      ]
     },
     "execution_count": 222,
     "metadata": {},
     "output_type": "execute_result"
    }
   ],
   "source": [
    "algo1 = lr()\n",
    "algo1.fit(x_train,y_train)\n",
    "y_pred1 = algo1.predict(x_test)\n",
    "algo1.score(x_test,y_test)"
   ]
  },
  {
   "cell_type": "code",
   "execution_count": 223,
   "id": "acd444a4",
   "metadata": {},
   "outputs": [
    {
     "data": {
      "image/png": "[encoded data removed]",
      "text/plain": [
       "<Figure size 640x480 with 1 Axes>"
      ]
     },
     "metadata": {},
     "output_type": "display_data"
    },
    {
     "name": "stdout",
     "output_type": "stream",
     "text": [
      "[0.33266666666666667, 0.32826666666666665, 0.3304, 0.33413333333333334, 0.3390666666666667, 0.3393333333333333, 0.33386666666666664, 0.33680000000000004, 0.3330666666666666, 0.3306666666666666, 0.33186666666666664, 0.33866666666666667, 0.3385333333333333, 0.3354666666666667]\n"
     ]
    }
   ],
   "source": [
    "x_axis = []\n",
    "y_axis = []\n",
    "\n",
    "for i in range(1,15):\n",
    "    k = knn(n_neighbors = i)\n",
    "    score = cross_val_score(k,x_train,y_train)\n",
    "    \n",
    "    x_axis.append(i)\n",
    "    y_axis.append(score.mean())\n",
    "    \n",
    "plt.plot(x_axis,y_axis)\n",
    "plt.show()\n",
    "print(y_axis)"
   ]
  },
  {
   "cell_type": "code",
   "execution_count": 224,
   "metadata": {},
   "outputs": [
    {
     "name": "stdout",
     "output_type": "stream",
     "text": [
      "0.3532\n"
     ]
    }
   ],
   "source": [
    "algo1 = lr()\n",
    "algo1.fit(x_train,y_train)\n",
    "y_pred1 = algo1.predict(x_test)\n",
    "score = algo1.score(x_test,y_test)\n",
    "print(score)"
   ]
  },
  {
   "cell_type": "code",
   "execution_count": 225,
   "id": "49815c80",
   "metadata": {},
   "outputs": [
    {
     "name": "stdout",
     "output_type": "stream",
     "text": [
      "0.3204\n"
     ]
    }
   ],
   "source": [
    "algo2 = knn(n_neighbors = 8)\n",
    "algo2.fit(x_train,y_train)\n",
    "y_pred2 = algo2.predict(x_test)\n",
    "score = cross_val_score(algo2,x_test,y_test)\n",
    "print(score.mean())"
   ]
  },
  {
   "cell_type": "code",
   "execution_count": 226,
   "id": "cafd0c03",
   "metadata": {},
   "outputs": [
    {
     "data": {
      "text/plain": [
       "0.3344"
      ]
     },
     "execution_count": 226,
     "metadata": {},
     "output_type": "execute_result"
    }
   ],
   "source": [
    "algo3 = dt()\n",
    "algo3.fit(x_train,y_train)\n",
    "y_pred3 = algo3.predict(x_test)\n",
    "algo3.score(x_test,y_test)"
   ]
  },
  {
   "cell_type": "code",
   "execution_count": 227,
   "id": "88d78501",
   "metadata": {},
   "outputs": [
    {
     "data": {
      "text/plain": [
       "0.3388"
      ]
     },
     "execution_count": 227,
     "metadata": {},
     "output_type": "execute_result"
    }
   ],
   "source": [
    "algo4 = rf()\n",
    "algo4.fit(x_train,y_train)\n",
    "y_pred4 = algo4.predict(x_test)\n",
    "algo4.score(x_test,y_test)"
   ]
  },
  {
   "cell_type": "code",
   "execution_count": 208,
   "id": "2a983eed",
   "metadata": {},
   "outputs": [
    {
     "data": {
      "text/plain": [
       "0.3364"
      ]
     },
     "execution_count": 208,
     "metadata": {},
     "output_type": "execute_result"
    }
   ],
   "source": [
    "algo5 = SVC()\n",
    "algo5.fit(x_train,y_train)\n",
    "algo5.score(x_test,y_test)"
   ]
  },
  {
   "cell_type": "code",
   "execution_count": null,
   "id": "116b89a1",
   "metadata": {},
   "outputs": [],
   "source": []
  }
 ],
 "metadata": {
  "kernelspec": {
   "display_name": "Python 3 (ipykernel)",
   "language": "python",
   "name": "python3"
  },
  "language_info": {
   "codemirror_mode": {
    "name": "ipython",
    "version": 3
   },
   "file_extension": ".py",
   "mimetype": "text/x-python",
   "name": "python",
   "nbconvert_exporter": "python",
   "pygments_lexer": "ipython3",
   "version": "3.11.5"
  }
 },
 "nbformat": 4,
 "nbformat_minor": 5
}
